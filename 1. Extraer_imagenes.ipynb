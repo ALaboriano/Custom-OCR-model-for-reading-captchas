{
 "cells": [
  {
   "cell_type": "markdown",
   "id": "16c53770-67a6-4afd-b645-50afe1ae728a",
   "metadata": {},
   "source": [
    "# Obtención de datos"
   ]
  },
  {
   "cell_type": "markdown",
   "id": "a442d4d3-0037-4f84-bfa1-eb2965bd69d0",
   "metadata": {},
   "source": [
    "- Extraer imagenes para entrenar modelo de reconocimiento de dígitos.\n",
    "- La imágenes se extrajeron de la pagina web, de la cual se recuperó información"
   ]
  },
  {
   "cell_type": "markdown",
   "id": "80aae1bb-796d-48bd-8ed8-8bd01e470ad3",
   "metadata": {},
   "source": [
    "## 1. Configurar entorno"
   ]
  },
  {
   "cell_type": "code",
   "execution_count": 2,
   "id": "4ae7c5b4-be82-439f-a6e7-fe906cbdbe7e",
   "metadata": {},
   "outputs": [],
   "source": [
    "# Cargar librerías.\n",
    "# Scraping\n",
    "from selenium import webdriver\n",
    "from selenium.webdriver.common.keys import Keys\n",
    "from fake_useragent import UserAgent\n",
    "\n",
    "# Credenciales, urls\n",
    "import keys as k\n",
    "import custom_vars\n",
    "\n",
    "# Extracción de texto\n",
    "import cv2\n",
    "import pytesseract as tes\n",
    "import re\n",
    "import pandas as pd\n",
    "\n",
    "import time\n",
    "import warnings\n",
    "warnings.filterwarnings('ignore')\n"
   ]
  },
  {
   "cell_type": "code",
   "execution_count": 3,
   "id": "fe6a2cbd-fd04-41d8-b22f-28b3cd10c646",
   "metadata": {},
   "outputs": [],
   "source": [
    "# Definir parámetros\n",
    "# Directorio o path donde se encuentra el ejecutable de pytesseract\n",
    "path_tesseract_exe = custom_vars.path_tesseract_exe\n",
    "# Página principal con la data\n",
    "url = custom_vars.url \n",
    "# Abrir la página web\n",
    "# Setear opciones de enmascaramiento\n",
    "options = webdriver.ChromeOptions();\n",
    "#Enmascarar fuente de salida de la consulta.\n",
    "#headers = {\"user-agent\": k.user_agent}\n",
    "userAgent = (UserAgent()).random\n",
    "options.add_argument(f'user-agent={userAgent}')\n",
    "#options.add_argument('user-agent':'{}'.format(k.user_agent))\n",
    "options.add_argument('--incognito')\n",
    "# Configurar el driver que abrirá la web\n",
    "driver = webdriver.Chrome('chromedriver', chrome_options=options)\n",
    "# Abrir la web\n",
    "driver.get(url)\n",
    "time.sleep(1)\n",
    "# Cerrar mensaje emergente\n",
    "driver.find_element_by_xpath(\"//*[@class = 'close']\").click()\n",
    "time.sleep(1)\n"
   ]
  },
  {
   "cell_type": "markdown",
   "id": "0ce0e458-92af-4de9-9de3-9a064c749f4e",
   "metadata": {},
   "source": [
    "## 2. Funciones desarrolladas"
   ]
  },
  {
   "cell_type": "code",
   "execution_count": 4,
   "id": "479dbbe6-2125-4cf5-8a55-787191916124",
   "metadata": {
    "tags": []
   },
   "outputs": [],
   "source": [
    "# Función para encontrar captcha, preprocesarlo y salvarlo.\n",
    "def get_images(driver,i):\n",
    "    # Tomar scrremshot y guardarlo\n",
    "    driver.save_screenshot('images2/image_{}.png'.format(str(i)))\n",
    "    # Cargar imagen y quedarse solamente con el área de interés.\n",
    "    image = cv2.imread('images2/image_{}.png'.format(str(i), 1))\n",
    "    # Recortar área de interés\n",
    "    image = image[485:540, 330:480]\n",
    "    cv2.imwrite('images2/image_{}.png'.format(str(i)), image)\n",
    "\n",
    "    \n",
    "def get_captcha(image, path_tesseract_exe):\n",
    "    # Cargar imagen.\n",
    "    img = cv2.imread(f'images/image_{image}.png', 1)\n",
    "    # Convertir imagen a texto\n",
    "    tes.pytesseract.tesseract_cmd = path_tesseract_exe\n",
    "    text = tes.image_to_string(img)\n",
    "    # Descifrar captcha.\n",
    "    #captcha = int(re.sub('[a-zA-Z]', '', re.sub('[^\\w\\s]','',text)).strip())\n",
    "    captcha = re.sub('[a-zA-Z]', '', re.sub('[^\\w\\s]','',text).strip()).strip()\n",
    "    return captcha"
   ]
  },
  {
   "cell_type": "markdown",
   "id": "291d709c-69a1-4105-ace4-96bdc60a709a",
   "metadata": {},
   "source": [
    "## 3. Extracción de imágenes"
   ]
  },
  {
   "cell_type": "code",
   "execution_count": 5,
   "id": "4253e53b-f773-4a89-ac1f-1bf7af3911db",
   "metadata": {
    "tags": []
   },
   "outputs": [],
   "source": [
    "# Generar un dataset de 1000 imágenes\n",
    "for i in range(0,1001):\n",
    "    try:\n",
    "        get_images(driver,i)\n",
    "        driver.find_element_by_xpath(\"//*[@class = 'refrescar']\").click() # Actualizar página después de salvar imagen\n",
    "        time.sleep(2)\n",
    "    except:\n",
    "        print('error')\n",
    "        driver.find_element_by_xpath(\"//*[@class = 'refrescar']\").click()\n",
    "        time.sleep(2)\n",
    "driver.quit()"
   ]
  },
  {
   "cell_type": "markdown",
   "id": "10924c22-b1d6-47af-89e6-71d1a34bc448",
   "metadata": {},
   "source": [
    "## 4. Etiquetar imágenes"
   ]
  },
  {
   "cell_type": "code",
   "execution_count": 39,
   "id": "4851cb43-b19a-4d0f-99d3-07dcc57f3a1f",
   "metadata": {},
   "outputs": [],
   "source": [
    "import os\n",
    "anotaciones = []\n",
    "for image in range(1,1001,1):\n",
    "    #print(image)\n",
    "    label = get_captcha(image, path_tesseract_exe)\n",
    "    #print(tmp)\n",
    "    anotaciones.append({'image':'image' + '_' + str(image),'label':label})"
   ]
  },
  {
   "cell_type": "code",
   "execution_count": 40,
   "id": "3931efad-f655-445f-8146-305cd5cb16eb",
   "metadata": {},
   "outputs": [
    {
     "data": {
      "text/html": [
       "<div>\n",
       "<style scoped>\n",
       "    .dataframe tbody tr th:only-of-type {\n",
       "        vertical-align: middle;\n",
       "    }\n",
       "\n",
       "    .dataframe tbody tr th {\n",
       "        vertical-align: top;\n",
       "    }\n",
       "\n",
       "    .dataframe thead th {\n",
       "        text-align: right;\n",
       "    }\n",
       "</style>\n",
       "<table border=\"1\" class=\"dataframe\">\n",
       "  <thead>\n",
       "    <tr style=\"text-align: right;\">\n",
       "      <th></th>\n",
       "      <th>image</th>\n",
       "      <th>label</th>\n",
       "    </tr>\n",
       "  </thead>\n",
       "  <tbody>\n",
       "    <tr>\n",
       "      <th>0</th>\n",
       "      <td>image_1</td>\n",
       "      <td>7</td>\n",
       "    </tr>\n",
       "    <tr>\n",
       "      <th>1</th>\n",
       "      <td>image_2</td>\n",
       "      <td>852</td>\n",
       "    </tr>\n",
       "    <tr>\n",
       "      <th>2</th>\n",
       "      <td>image_3</td>\n",
       "      <td>213</td>\n",
       "    </tr>\n",
       "    <tr>\n",
       "      <th>3</th>\n",
       "      <td>image_4</td>\n",
       "      <td>685</td>\n",
       "    </tr>\n",
       "    <tr>\n",
       "      <th>4</th>\n",
       "      <td>image_5</td>\n",
       "      <td></td>\n",
       "    </tr>\n",
       "    <tr>\n",
       "      <th>...</th>\n",
       "      <td>...</td>\n",
       "      <td>...</td>\n",
       "    </tr>\n",
       "    <tr>\n",
       "      <th>995</th>\n",
       "      <td>image_996</td>\n",
       "      <td></td>\n",
       "    </tr>\n",
       "    <tr>\n",
       "      <th>996</th>\n",
       "      <td>image_997</td>\n",
       "      <td></td>\n",
       "    </tr>\n",
       "    <tr>\n",
       "      <th>997</th>\n",
       "      <td>image_998</td>\n",
       "      <td>852</td>\n",
       "    </tr>\n",
       "    <tr>\n",
       "      <th>998</th>\n",
       "      <td>image_999</td>\n",
       "      <td>651</td>\n",
       "    </tr>\n",
       "    <tr>\n",
       "      <th>999</th>\n",
       "      <td>image_1000</td>\n",
       "      <td>168</td>\n",
       "    </tr>\n",
       "  </tbody>\n",
       "</table>\n",
       "<p>1000 rows × 2 columns</p>\n",
       "</div>"
      ],
      "text/plain": [
       "          image label\n",
       "0       image_1     7\n",
       "1       image_2   852\n",
       "2       image_3   213\n",
       "3       image_4   685\n",
       "4       image_5      \n",
       "..          ...   ...\n",
       "995   image_996      \n",
       "996   image_997      \n",
       "997   image_998   852\n",
       "998   image_999   651\n",
       "999  image_1000   168\n",
       "\n",
       "[1000 rows x 2 columns]"
      ]
     },
     "execution_count": 40,
     "metadata": {},
     "output_type": "execute_result"
    }
   ],
   "source": [
    "pd.DataFrame(anotaciones)"
   ]
  },
  {
   "cell_type": "code",
   "execution_count": 41,
   "id": "654f1f03-fa18-46f5-88d1-0db4059e36f9",
   "metadata": {},
   "outputs": [],
   "source": [
    "# Guardar data\n",
    "pd.DataFrame(anotaciones).to_csv('anotaciones_pytesseract_original.csv', index = False)\n",
    "#pd.DataFrame(anotaciones).to_csv('anotaciones.csv', index = False)"
   ]
  },
  {
   "attachments": {
    "27a05585-c3b4-4030-9a07-34f360cff992.png": {
     "image/png": "[encoded data removed]"
    }
   },
   "cell_type": "markdown",
   "id": "fad2778b-6bd2-4abf-99ed-f5ce5126ec7e",
   "metadata": {},
   "source": [
    "Finalmente se verificó y corrigió las imágenes que Pyteseract no etiquetó bien.\n",
    "\n",
    "Caso de la imagen 1:  \n",
    "\n",
    "|                 |       |\n",
    "|-----------------|-------|\n",
    "| **imagen**      |![image.png](attachment:27a05585-c3b4-4030-9a07-34f360cff992.png)|\n",
    "| **label pytesseract** |   &nbsp;&nbsp;&nbsp;&nbsp;&nbsp;1&nbsp;&nbsp;&nbsp;&nbsp;&nbsp;  |\n",
    "| **label corregido**  |   &nbsp;&nbsp;&nbsp;&nbsp;&nbsp;687&nbsp;&nbsp;&nbsp;&nbsp;&nbsp;   |"
   ]
  }
 ],
 "metadata": {
  "kernelspec": {
   "display_name": "Python 3 (ipykernel)",
   "language": "python",
   "name": "python3"
  },
  "language_info": {
   "codemirror_mode": {
    "name": "ipython",
    "version": 3
   },
   "file_extension": ".py",
   "mimetype": "text/x-python",
   "name": "python",
   "nbconvert_exporter": "python",
   "pygments_lexer": "ipython3",
   "version": "3.9.7"
  }
 },
 "nbformat": 4,
 "nbformat_minor": 5
}
