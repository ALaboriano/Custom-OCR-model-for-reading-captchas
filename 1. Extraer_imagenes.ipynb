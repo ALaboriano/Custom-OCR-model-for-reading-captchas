{
 "cells": [
  {
   "cell_type": "code",
   "execution_count": 1,
   "id": "63bb0007-cfc0-43ae-bc87-7a75096ff96d",
   "metadata": {},
   "outputs": [],
   "source": [
    "# Extraer imagenes para entrenar modelo de reconocimiento de dígitos."
   ]
  },
  {
   "cell_type": "code",
   "execution_count": 2,
   "id": "4ae7c5b4-be82-439f-a6e7-fe906cbdbe7e",
   "metadata": {},
   "outputs": [],
   "source": [
    "# Cargar librerías.\n",
    "from selenium import webdriver\n",
    "from selenium.webdriver.common.keys import Keys\n",
    "from fake_useragent import UserAgent\n",
    "import keys as k\n",
    "import time\n",
    "import cv2\n",
    "\n",
    "import warnings\n",
    "warnings.filterwarnings('ignore')\n"
   ]
  },
  {
   "cell_type": "markdown",
   "id": "f031fc97-c607-4b49-85ee-9e032e772945",
   "metadata": {
    "tags": []
   },
   "source": [
    "## Cargar funciones"
   ]
  },
  {
   "cell_type": "code",
   "execution_count": 3,
   "id": "fe6a2cbd-fd04-41d8-b22f-28b3cd10c646",
   "metadata": {},
   "outputs": [],
   "source": [
    "# Página principal con la data\n",
    "url = \"https://operaciones.sisfoh.gob.pe:450/cse/\"\n",
    "# Abrir la página web\n",
    "# Setear opciones de enmascaramiento\n",
    "options = webdriver.ChromeOptions();\n",
    "#Enmascarar fuente de salida de la consulta.\n",
    "#headers = {\"user-agent\": k.user_agent}\n",
    "userAgent = (UserAgent()).random\n",
    "options.add_argument(f'user-agent={userAgent}')\n",
    "#options.add_argument('user-agent':'{}'.format(k.user_agent))\n",
    "options.add_argument('--incognito')\n",
    "# Configurar el driver que abrirá la web\n",
    "driver = webdriver.Chrome('chromedriver', chrome_options=options)\n",
    "# Abrir la web\n",
    "driver.get(url)\n",
    "time.sleep(1)\n",
    "# Cerrar mensaje emergente\n",
    "driver.find_element_by_xpath(\"//*[@class = 'close']\").click()\n",
    "time.sleep(1)"
   ]
  },
  {
   "cell_type": "code",
   "execution_count": 4,
   "id": "479dbbe6-2125-4cf5-8a55-787191916124",
   "metadata": {},
   "outputs": [],
   "source": [
    "# Encontrar captcha con 3 digitos\n",
    "def get_images(driver,i):\n",
    "    driver.save_screenshot('images2/image_{}.png'.format(str(i)))\n",
    "    # Cargar imagen y quedarse solamente con el área de interés.\n",
    "    image = cv2.imread('images2/image_{}.png'.format(str(i), 1))\n",
    "    # Recortar área de interés\n",
    "    image = image[485:540, 330:480]\n",
    "    cv2.imwrite('images2/image_{}.png'.format(str(i)), image)\n"
   ]
  },
  {
   "cell_type": "code",
   "execution_count": 5,
   "id": "4253e53b-f773-4a89-ac1f-1bf7af3911db",
   "metadata": {
    "tags": []
   },
   "outputs": [],
   "source": [
    "for i in range(1001,2001):\n",
    "    try:\n",
    "        get_images(driver,i)\n",
    "        driver.find_element_by_xpath(\"//*[@class = 'refrescar']\").click()\n",
    "        time.sleep(2)\n",
    "    except:\n",
    "        print('error')\n",
    "        driver.find_element_by_xpath(\"//*[@class = 'refrescar']\").click()\n",
    "        time.sleep(2)\n",
    "driver.quit()"
   ]
  },
  {
   "cell_type": "code",
   "execution_count": null,
   "id": "9037ee5e-36a0-4092-b467-3434079fb73b",
   "metadata": {},
   "outputs": [],
   "source": []
  },
  {
   "cell_type": "markdown",
   "id": "e838f994-2346-48d8-91ce-06576e1b9185",
   "metadata": {},
   "source": [
    "-----------"
   ]
  },
  {
   "cell_type": "markdown",
   "id": "10924c22-b1d6-47af-89e6-71d1a34bc448",
   "metadata": {},
   "source": [
    "# Etiquetar imágenes"
   ]
  },
  {
   "cell_type": "code",
   "execution_count": 15,
   "id": "e0ee75b0-d91b-4a8a-8b68-015a17bf8353",
   "metadata": {},
   "outputs": [],
   "source": [
    "import cv2\n",
    "import pytesseract as tes\n",
    "import re"
   ]
  },
  {
   "cell_type": "code",
   "execution_count": 35,
   "id": "d409abde-f8fd-4985-9805-b14ae4a9c054",
   "metadata": {},
   "outputs": [],
   "source": [
    "def get_captcha(index):\n",
    "    # Cargar imagen.\n",
    "    img = cv2.imread(f'images/image_{index}.png', 1)\n",
    "    # Convertir imagen a texto\n",
    "    tes.pytesseract.tesseract_cmd = r'C:\\Users\\alaboriano\\AppData\\Local\\Programs\\Tesseract-OCR\\tesseract.exe'\n",
    "    text = tes.image_to_string(img)\n",
    "    # Descifrar captcha.\n",
    "    #captcha = int(re.sub('[a-zA-Z]', '', re.sub('[^\\w\\s]','',text)).strip())\n",
    "    captcha = re.sub('[a-zA-Z]', '', re.sub('[^\\w\\s]','',text).strip()).strip()\n",
    "    return captcha\n",
    " "
   ]
  },
  {
   "cell_type": "code",
   "execution_count": 39,
   "id": "4851cb43-b19a-4d0f-99d3-07dcc57f3a1f",
   "metadata": {},
   "outputs": [],
   "source": [
    "import os\n",
    "anotaciones = []\n",
    "for index in range(1,1001,1):\n",
    "    #print(image)\n",
    "    label = get_captcha(index)\n",
    "    #print(tmp)\n",
    "    anotaciones.append({'image':'image' + '_' + str(index),'label':label})"
   ]
  },
  {
   "cell_type": "code",
   "execution_count": 40,
   "id": "3931efad-f655-445f-8146-305cd5cb16eb",
   "metadata": {},
   "outputs": [
    {
     "data": {
      "text/html": [
       "<div>\n",
       "<style scoped>\n",
       "    .dataframe tbody tr th:only-of-type {\n",
       "        vertical-align: middle;\n",
       "    }\n",
       "\n",
       "    .dataframe tbody tr th {\n",
       "        vertical-align: top;\n",
       "    }\n",
       "\n",
       "    .dataframe thead th {\n",
       "        text-align: right;\n",
       "    }\n",
       "</style>\n",
       "<table border=\"1\" class=\"dataframe\">\n",
       "  <thead>\n",
       "    <tr style=\"text-align: right;\">\n",
       "      <th></th>\n",
       "      <th>image</th>\n",
       "      <th>label</th>\n",
       "    </tr>\n",
       "  </thead>\n",
       "  <tbody>\n",
       "    <tr>\n",
       "      <th>0</th>\n",
       "      <td>image_1</td>\n",
       "      <td>7</td>\n",
       "    </tr>\n",
       "    <tr>\n",
       "      <th>1</th>\n",
       "      <td>image_2</td>\n",
       "      <td>852</td>\n",
       "    </tr>\n",
       "    <tr>\n",
       "      <th>2</th>\n",
       "      <td>image_3</td>\n",
       "      <td>213</td>\n",
       "    </tr>\n",
       "    <tr>\n",
       "      <th>3</th>\n",
       "      <td>image_4</td>\n",
       "      <td>685</td>\n",
       "    </tr>\n",
       "    <tr>\n",
       "      <th>4</th>\n",
       "      <td>image_5</td>\n",
       "      <td></td>\n",
       "    </tr>\n",
       "    <tr>\n",
       "      <th>...</th>\n",
       "      <td>...</td>\n",
       "      <td>...</td>\n",
       "    </tr>\n",
       "    <tr>\n",
       "      <th>995</th>\n",
       "      <td>image_996</td>\n",
       "      <td></td>\n",
       "    </tr>\n",
       "    <tr>\n",
       "      <th>996</th>\n",
       "      <td>image_997</td>\n",
       "      <td></td>\n",
       "    </tr>\n",
       "    <tr>\n",
       "      <th>997</th>\n",
       "      <td>image_998</td>\n",
       "      <td>852</td>\n",
       "    </tr>\n",
       "    <tr>\n",
       "      <th>998</th>\n",
       "      <td>image_999</td>\n",
       "      <td>651</td>\n",
       "    </tr>\n",
       "    <tr>\n",
       "      <th>999</th>\n",
       "      <td>image_1000</td>\n",
       "      <td>168</td>\n",
       "    </tr>\n",
       "  </tbody>\n",
       "</table>\n",
       "<p>1000 rows × 2 columns</p>\n",
       "</div>"
      ],
      "text/plain": [
       "          image label\n",
       "0       image_1     7\n",
       "1       image_2   852\n",
       "2       image_3   213\n",
       "3       image_4   685\n",
       "4       image_5      \n",
       "..          ...   ...\n",
       "995   image_996      \n",
       "996   image_997      \n",
       "997   image_998   852\n",
       "998   image_999   651\n",
       "999  image_1000   168\n",
       "\n",
       "[1000 rows x 2 columns]"
      ]
     },
     "execution_count": 40,
     "metadata": {},
     "output_type": "execute_result"
    }
   ],
   "source": [
    "pd.DataFrame(anotaciones)"
   ]
  },
  {
   "cell_type": "code",
   "execution_count": 41,
   "id": "654f1f03-fa18-46f5-88d1-0db4059e36f9",
   "metadata": {},
   "outputs": [],
   "source": [
    "import pandas as pd\n",
    "pd.DataFrame(anotaciones).to_csv('anotaciones_pytesseract_original.csv', index = False)"
   ]
  },
  {
   "cell_type": "code",
   "execution_count": 42,
   "id": "b32a8b80-5a6d-4a24-8602-3527e80823cb",
   "metadata": {},
   "outputs": [],
   "source": [
    "import pandas as pd\n",
    "pd.DataFrame(anotaciones).to_csv('anotaciones.csv', index = False)"
   ]
  },
  {
   "cell_type": "code",
   "execution_count": null,
   "id": "0198ce98-dcf7-425c-9570-066d6c0cb465",
   "metadata": {},
   "outputs": [],
   "source": []
  }
 ],
 "metadata": {
  "kernelspec": {
   "display_name": "Python 3 (ipykernel)",
   "language": "python",
   "name": "python3"
  },
  "language_info": {
   "codemirror_mode": {
    "name": "ipython",
    "version": 3
   },
   "file_extension": ".py",
   "mimetype": "text/x-python",
   "name": "python",
   "nbconvert_exporter": "python",
   "pygments_lexer": "ipython3",
   "version": "3.9.7"
  }
 },
 "nbformat": 4,
 "nbformat_minor": 5
}
