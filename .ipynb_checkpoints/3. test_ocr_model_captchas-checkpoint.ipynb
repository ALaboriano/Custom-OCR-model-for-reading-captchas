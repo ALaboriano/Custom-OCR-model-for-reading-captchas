{
 "cells": [
  {
   "cell_type": "code",
   "execution_count": 6,
   "id": "f240cf3e-4695-4f3f-a260-2056b00a3075",
   "metadata": {},
   "outputs": [],
   "source": [
    "import tensorflow as tf\n",
    "from tensorflow import keras\n",
    "from tensorflow.keras import layers\n",
    "import os\n",
    "import numpy as np\n",
    "import matplotlib.pyplot as plt\n",
    "\n",
    "from pathlib import Path\n",
    "from collections import Counter\n",
    "\n",
    "import warnings\n",
    "warnings.filterwarnings('ignore')"
   ]
  },
  {
   "cell_type": "code",
   "execution_count": 7,
   "id": "3730247e-fc20-419e-a3cc-b4546832d052",
   "metadata": {},
   "outputs": [
    {
     "data": {
      "text/plain": [
       "['1', '2', '3', '4', '5', '6', '7', '8']"
      ]
     },
     "execution_count": 7,
     "metadata": {},
     "output_type": "execute_result"
    }
   ],
   "source": [
    "# Desired image dimensions\n",
    "img_width = 200\n",
    "img_height = 100\n",
    "max_length = 3\n",
    "characters = [str(x) for x in range(1,9)]\n",
    "characters"
   ]
  },
  {
   "cell_type": "code",
   "execution_count": 8,
   "id": "00cbfb04-7373-42d4-af90-f83334f2a1f4",
   "metadata": {},
   "outputs": [],
   "source": [
    "# Función modificada solamente para leer la imagen\n",
    "def encode_single_sample_(img_path):\n",
    "    # 1. Read image\n",
    "    img = tf.io.read_file(img_path)\n",
    "    # 2. Decode and convert to grayscale\n",
    "    img = tf.io.decode_png(img, channels=1)\n",
    "    # 3. Convert to float32 in [0, 1] range\n",
    "    img = tf.image.convert_image_dtype(img, tf.float32)\n",
    "    # 4. Resize to the desired size\n",
    "    img = tf.image.resize(img, [img_height, img_width])\n",
    "    # 5. Transpose the image because we want the time\n",
    "    # dimension to correspond to the width of the image.\n",
    "    img = tf.transpose(img, perm=[1, 0, 2])\n",
    "    # 6. Map the characters in label to numbers\n",
    "    #label = char_to_num(tf.strings.unicode_split(label, input_encoding=\"UTF-8\"))\n",
    "    # 7. Return a dict as our model is expecting two inputs\n",
    "    return {\"image\": img}#, \"label\":label}"
   ]
  },
  {
   "cell_type": "code",
   "execution_count": 9,
   "id": "76323d08-7e3e-4a45-8882-c2b0fca62f41",
   "metadata": {},
   "outputs": [],
   "source": [
    "def get_captcha(image_path, prediction_model):\n",
    "\n",
    "    # Ruta de la imagen a cargar para scorear\n",
    "    #x_predict = 'images2/image_1272.png'\n",
    "\n",
    "    # Armamos dataset com imagen leída\n",
    "    predict_dataset = tf.data.Dataset.from_tensors((image_path))\n",
    "    predict_dataset = (\n",
    "        predict_dataset.map(\n",
    "            encode_single_sample_, num_parallel_calls=tf.data.AUTOTUNE\n",
    "        )\n",
    "        .batch(1)\n",
    "        .prefetch(buffer_size=tf.data.AUTOTUNE)\n",
    "    )\n",
    "\n",
    "\n",
    "    preds = prediction_model.predict(predict_dataset)\n",
    "    pred_texts = decode_batch_predictions(preds)[0]\n",
    "    print(pred_texts)\n",
    "    return pred_texts"
   ]
  },
  {
   "cell_type": "code",
   "execution_count": 10,
   "id": "dba6c5b4-5008-4a19-939f-0c1c928c0224",
   "metadata": {},
   "outputs": [],
   "source": [
    "# A utility function to decode the output of the network\n",
    "def decode_batch_predictions(pred):\n",
    "    input_len = np.ones(pred.shape[0]) * pred.shape[1]\n",
    "    # Use greedy search. For complex tasks, you can use beam search\n",
    "    results = keras.backend.ctc_decode(pred, input_length=input_len, greedy=True)[0][0][\n",
    "        :, :max_length\n",
    "    ]\n",
    "    # Iterate over the results and get back the text\n",
    "    output_text = []\n",
    "    for res in results:\n",
    "        res = tf.strings.reduce_join(num_to_char(res)).numpy().decode(\"utf-8\")\n",
    "        output_text.append(res)\n",
    "    return output_text"
   ]
  },
  {
   "cell_type": "code",
   "execution_count": 11,
   "id": "29ed7281-27ad-4fd2-85a7-7fa053ca6357",
   "metadata": {},
   "outputs": [],
   "source": [
    "# Mapping characters to integers\n",
    "char_to_num = layers.StringLookup(\n",
    "    vocabulary=characters, mask_token=None\n",
    ")\n",
    "\n",
    "# Mapping integers back to original characters\n",
    "num_to_char = layers.StringLookup(\n",
    "    vocabulary=char_to_num.get_vocabulary(), mask_token=None, invert=True\n",
    ")"
   ]
  },
  {
   "cell_type": "code",
   "execution_count": 12,
   "id": "7caf8f76-35ac-4add-a04c-5d2831f45eca",
   "metadata": {},
   "outputs": [
    {
     "name": "stdout",
     "output_type": "stream",
     "text": [
      "WARNING:tensorflow:No training configuration found in the save file, so the model was *not* compiled. Compile it manually.\n",
      "1/1 [==============================] - 1s 1s/step\n",
      "682\n"
     ]
    }
   ],
   "source": [
    "image_path = 'images2/image_1479.png'\n",
    "# Recrea exactamente el mismo modelo solo desde el archivo\n",
    "prediction_model = keras.models.load_model('alg_custom_ocr_model_captchas.h5')\n",
    "pred_texts = get_captcha(image_path, prediction_model)"
   ]
  },
  {
   "cell_type": "code",
   "execution_count": 13,
   "id": "7cf5aa97-a1d0-49eb-a006-f43ff0d9bf13",
   "metadata": {},
   "outputs": [
    {
     "data": {
      "image/png": "[encoded data removed]",
      "text/plain": [
       "<Figure size 432x288 with 1 Axes>"
      ]
     },
     "metadata": {
      "needs_background": "light"
     },
     "output_type": "display_data"
    }
   ],
   "source": [
    "plt.title(f\"Prediction:{pred_texts}\")\n",
    "img = encode_single_sample_(image_path)\n",
    "img = (img[\"image\"][:, :, 0] * 255).numpy().astype(np.uint8)\n",
    "img = img.T\n",
    "plt.imshow(img, cmap=\"gray\")\n",
    "plt.show()"
   ]
  },
  {
   "cell_type": "markdown",
   "id": "e87dadcc-0656-4269-94b8-39aa9ecb6873",
   "metadata": {},
   "source": [
    "-----------"
   ]
  },
  {
   "cell_type": "code",
   "execution_count": 14,
   "id": "b25c4635-1382-419e-9536-7d6b5ca5c3b1",
   "metadata": {},
   "outputs": [
    {
     "name": "stdout",
     "output_type": "stream",
     "text": [
      "WARNING:tensorflow:No training configuration found in the save file, so the model was *not* compiled. Compile it manually.\n",
      "1/1 [==============================] - 1s 1s/step\n",
      "284\n",
      "CPU times: total: 2.44 s\n",
      "Wall time: 2.37 s\n"
     ]
    }
   ],
   "source": [
    "%%time\n",
    "image_path = 'images2/image_1701.png'\n",
    "# Recrea exactamente el mismo modelo solo desde el archivo\n",
    "prediction_model = keras.models.load_model('alg_custom_ocr_model_captchas.h5')\n",
    "pred_texts = get_captcha(image_path, prediction_model)"
   ]
  },
  {
   "cell_type": "code",
   "execution_count": 15,
   "id": "bcfd92d7-b35c-47a7-b884-b682a492b23e",
   "metadata": {},
   "outputs": [
    {
     "data": {
      "image/png": "[encoded data removed]",
      "text/plain": [
       "<Figure size 432x288 with 1 Axes>"
      ]
     },
     "metadata": {
      "needs_background": "light"
     },
     "output_type": "display_data"
    }
   ],
   "source": [
    "plt.title(f\"Prediction:{pred_texts}\")\n",
    "img = encode_single_sample_(image_path)\n",
    "img = (img[\"image\"][:, :, 0] * 255).numpy().astype(np.uint8)\n",
    "img = img.T\n",
    "plt.imshow(img, cmap=\"gray\")\n",
    "plt.show()"
   ]
  },
  {
   "cell_type": "code",
   "execution_count": null,
   "id": "46ab937c-956a-4b4e-92be-095e6c44216a",
   "metadata": {},
   "outputs": [],
   "source": []
  }
 ],
 "metadata": {
  "kernelspec": {
   "display_name": "Python 3 (ipykernel)",
   "language": "python",
   "name": "python3"
  },
  "language_info": {
   "codemirror_mode": {
    "name": "ipython",
    "version": 3
   },
   "file_extension": ".py",
   "mimetype": "text/x-python",
   "name": "python",
   "nbconvert_exporter": "python",
   "pygments_lexer": "ipython3",
   "version": "3.9.7"
  }
 },
 "nbformat": 4,
 "nbformat_minor": 5
}
