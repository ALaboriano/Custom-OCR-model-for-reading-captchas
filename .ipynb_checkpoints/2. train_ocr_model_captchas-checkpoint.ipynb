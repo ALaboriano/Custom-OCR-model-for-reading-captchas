{
 "cells": [
  {
   "cell_type": "markdown",
   "id": "96790f34-4e25-4a14-9f18-9dfceafff83e",
   "metadata": {},
   "source": [
    "# Optical Character Recognition model for reading Captchas\n",
    "Basado en   \n",
    "https://keras.io/examples/vision/captcha_ocr/\n",
    "\n",
    "https://colab.research.google.com/github/keras-team/keras-io/blob/master/examples/vision/ipynb/captcha_ocr.ipynb"
   ]
  },
  {
   "cell_type": "code",
   "execution_count": 1,
   "id": "c251c1c8-4c4b-44b9-aa39-02cb094d9a5e",
   "metadata": {},
   "outputs": [],
   "source": [
    "# Cargar librerías.\n",
    "import os\n",
    "import numpy as np\n",
    "import matplotlib.pyplot as plt\n",
    "\n",
    "from pathlib import Path\n",
    "from collections import Counter"
   ]
  },
  {
   "cell_type": "code",
   "execution_count": 2,
   "id": "055897be-14aa-4d56-ac96-9c1525201760",
   "metadata": {},
   "outputs": [],
   "source": [
    "import tensorflow as tf\n",
    "from tensorflow import keras\n",
    "from tensorflow.keras import layers"
   ]
  },
  {
   "cell_type": "markdown",
   "id": "eb71960e-528d-423e-8cf7-e25de0c33bf8",
   "metadata": {},
   "source": [
    "El dataset contiene 1000 imágenes etiquetadas en formato ``.png`` de los captchas."
   ]
  },
  {
   "cell_type": "code",
   "execution_count": 3,
   "id": "b31f775a-f7a5-4b97-8e43-3e3c5d17127d",
   "metadata": {},
   "outputs": [
    {
     "data": {
      "text/plain": [
       "WindowsPath('images')"
      ]
     },
     "execution_count": 3,
     "metadata": {},
     "output_type": "execute_result"
    }
   ],
   "source": [
    "# Directorio de trabajo.\n",
    "data_dir = Path('images')\n",
    "data_dir"
   ]
  },
  {
   "cell_type": "code",
   "execution_count": 4,
   "id": "37d69797-1f6d-4276-8a6b-e85a6072f4fa",
   "metadata": {},
   "outputs": [
    {
     "data": {
      "text/plain": [
       "['images\\\\image_1.png',\n",
       " 'images\\\\image_10.png',\n",
       " 'images\\\\image_100.png',\n",
       " 'images\\\\image_1000.png',\n",
       " 'images\\\\image_101.png']"
      ]
     },
     "execution_count": 4,
     "metadata": {},
     "output_type": "execute_result"
    }
   ],
   "source": [
    "# Lista de imágenes\n",
    "images = sorted(list(map(str,list(data_dir.glob(\"*.png\")))))\n",
    "images[0:5]"
   ]
  },
  {
   "cell_type": "code",
   "execution_count": 5,
   "id": "ae641487-8445-4361-ae4f-78f735842c14",
   "metadata": {},
   "outputs": [
    {
     "data": {
      "text/html": [
       "<div>\n",
       "<style scoped>\n",
       "    .dataframe tbody tr th:only-of-type {\n",
       "        vertical-align: middle;\n",
       "    }\n",
       "\n",
       "    .dataframe tbody tr th {\n",
       "        vertical-align: top;\n",
       "    }\n",
       "\n",
       "    .dataframe thead th {\n",
       "        text-align: right;\n",
       "    }\n",
       "</style>\n",
       "<table border=\"1\" class=\"dataframe\">\n",
       "  <thead>\n",
       "    <tr style=\"text-align: right;\">\n",
       "      <th></th>\n",
       "      <th>image</th>\n",
       "      <th>label</th>\n",
       "    </tr>\n",
       "  </thead>\n",
       "  <tbody>\n",
       "    <tr>\n",
       "      <th>0</th>\n",
       "      <td>image_1</td>\n",
       "      <td>687</td>\n",
       "    </tr>\n",
       "    <tr>\n",
       "      <th>9</th>\n",
       "      <td>image_10</td>\n",
       "      <td>685</td>\n",
       "    </tr>\n",
       "    <tr>\n",
       "      <th>99</th>\n",
       "      <td>image_100</td>\n",
       "      <td>824</td>\n",
       "    </tr>\n",
       "    <tr>\n",
       "      <th>999</th>\n",
       "      <td>image_1000</td>\n",
       "      <td>168</td>\n",
       "    </tr>\n",
       "    <tr>\n",
       "      <th>100</th>\n",
       "      <td>image_101</td>\n",
       "      <td>624</td>\n",
       "    </tr>\n",
       "  </tbody>\n",
       "</table>\n",
       "</div>"
      ],
      "text/plain": [
       "          image  label\n",
       "0       image_1    687\n",
       "9      image_10    685\n",
       "99    image_100    824\n",
       "999  image_1000    168\n",
       "100   image_101    624"
      ]
     },
     "execution_count": 5,
     "metadata": {},
     "output_type": "execute_result"
    }
   ],
   "source": [
    "import pandas as pd\n",
    "label_df = pd.read_csv('anotaciones.csv', sep =';')\n",
    "label_df.sort_values('image', inplace = True)\n",
    "label_df.head()"
   ]
  },
  {
   "cell_type": "code",
   "execution_count": 6,
   "id": "478e0fee-1349-41be-a141-ab0bfd19956c",
   "metadata": {},
   "outputs": [
    {
     "data": {
      "text/plain": [
       "['687', '685', '824', '168', '624']"
      ]
     },
     "execution_count": 6,
     "metadata": {},
     "output_type": "execute_result"
    }
   ],
   "source": [
    "labels = [str(label) for label in label_df.label]\n",
    "labels[0:5]"
   ]
  },
  {
   "cell_type": "code",
   "execution_count": 7,
   "id": "fb754b12-7b84-451e-b3a0-7d5af4a6320f",
   "metadata": {},
   "outputs": [
    {
     "data": {
      "text/plain": [
       "['1', '2', '3', '4', '5', '6', '7', '8']"
      ]
     },
     "execution_count": 7,
     "metadata": {},
     "output_type": "execute_result"
    }
   ],
   "source": [
    "# Caracteres distintos en los captchas.\n",
    "characters = set(char for label in labels for char in str(label))\n",
    "characters = sorted(list(characters))\n",
    "characters"
   ]
  },
  {
   "cell_type": "code",
   "execution_count": 8,
   "id": "efbad13a-0525-4949-9485-29bc5bf1c8db",
   "metadata": {},
   "outputs": [
    {
     "name": "stdout",
     "output_type": "stream",
     "text": [
      "Number of images found:  1000\n",
      "Number of labels found:  1000\n",
      "Number of unique characters:  8\n",
      "Characters present:  ['1', '2', '3', '4', '5', '6', '7', '8']\n"
     ]
    }
   ],
   "source": [
    "print(\"Number of images found: \", len(images))\n",
    "print(\"Number of labels found: \", len(labels))\n",
    "print(\"Number of unique characters: \", len(characters))\n",
    "print(\"Characters present: \", characters)"
   ]
  },
  {
   "cell_type": "markdown",
   "id": "cd66c91e-c6de-4144-aa4f-f9c4f6277d9d",
   "metadata": {},
   "source": [
    "- Ojo falta imágenes con data de 0 y 9"
   ]
  },
  {
   "cell_type": "code",
   "execution_count": 9,
   "id": "1ac72a5a-522b-4969-ab04-f15575893c92",
   "metadata": {},
   "outputs": [],
   "source": [
    "# Batch size for training and validation\n",
    "batch_size = 10"
   ]
  },
  {
   "cell_type": "code",
   "execution_count": 10,
   "id": "7a124fce-c2dc-4b67-bc3f-1380d7ccf344",
   "metadata": {},
   "outputs": [],
   "source": [
    "# Desired image dimensions\n",
    "img_width = 200\n",
    "img_height = 100"
   ]
  },
  {
   "cell_type": "code",
   "execution_count": 11,
   "id": "62313244-3fcc-43a1-bfe6-8f7644e0d448",
   "metadata": {},
   "outputs": [],
   "source": [
    "# Factor by which the image is going to be downsampled\n",
    "# by the convolutional blocks. We will be using two\n",
    "# convolution blocks and each block will have\n",
    "# a pooling layer which downsample the features by a factor of 2.\n",
    "# Hence total downsampling factor would be 4.\n",
    "downsample_factor = 2\n",
    "\n",
    "# Maximum length of any captcha in the dataset\n",
    "max_length = 3#max([len(label) for label in labels])"
   ]
  },
  {
   "cell_type": "markdown",
   "id": "cde60bbd-e859-45df-9299-8561f0b61441",
   "metadata": {},
   "source": [
    "### Preprocessing"
   ]
  },
  {
   "cell_type": "code",
   "execution_count": 12,
   "id": "e0516fd3-1ce9-4044-93d7-7723b5fee3db",
   "metadata": {},
   "outputs": [],
   "source": [
    "# Mapping characters to integers\n",
    "char_to_num = layers.StringLookup(\n",
    "    vocabulary=list(characters), mask_token=None\n",
    ")\n",
    "\n",
    "# Mapping integers back to original characters\n",
    "num_to_char = layers.StringLookup(\n",
    "    vocabulary=char_to_num.get_vocabulary(), mask_token=None, invert=True\n",
    ")"
   ]
  },
  {
   "cell_type": "code",
   "execution_count": 13,
   "id": "085d6c44-5dff-465c-8211-22c416e39b39",
   "metadata": {},
   "outputs": [],
   "source": [
    "def split_data(images, labels, train_size=0.9, shuffle=True):\n",
    "    # 1. Get the total size of the dataset\n",
    "    size = len(images)\n",
    "    # 2. Make an indices array and shuffle it, if required\n",
    "    indices = np.arange(size)\n",
    "    if shuffle:\n",
    "        np.random.shuffle(indices)\n",
    "    # 3. Get the size of training samples\n",
    "    train_samples = int(size * train_size)\n",
    "    # 4. Split data into training and validation sets\n",
    "    x_train, y_train = images[indices[:train_samples]], labels[indices[:train_samples]]\n",
    "    x_valid, y_valid = images[indices[train_samples:]], labels[indices[train_samples:]]\n",
    "    return x_train, x_valid, y_train, y_valid"
   ]
  },
  {
   "cell_type": "code",
   "execution_count": 14,
   "id": "3a1f0eed-d541-471e-b55a-377034c9c724",
   "metadata": {},
   "outputs": [
    {
     "data": {
      "text/plain": [
       "((900,), (100,), (900,), (100,))"
      ]
     },
     "execution_count": 14,
     "metadata": {},
     "output_type": "execute_result"
    }
   ],
   "source": [
    "# Splitting data into training and validation sets\n",
    "x_train, x_valid, y_train, y_valid = split_data(np.array(images), np.array(labels))\n",
    "x_train.shape, x_valid.shape, y_train.shape, y_valid.shape "
   ]
  },
  {
   "cell_type": "code",
   "execution_count": 111,
   "id": "611da5de-b76e-4133-8a00-b18668a3edeb",
   "metadata": {},
   "outputs": [],
   "source": [
    "def encode_single_sample(img_path, label):\n",
    "    # 1. Read image\n",
    "    img = tf.io.read_file(img_path)\n",
    "    # 2. Decode and convert to grayscale\n",
    "    img = tf.io.decode_png(img, channels=1)\n",
    "    # 3. Convert to float32 in [0, 1] range\n",
    "    img = tf.image.convert_image_dtype(img, tf.float32)\n",
    "    # 4. Resize to the desired size\n",
    "    img = tf.image.resize(img, [img_height, img_width])\n",
    "    # 5. Transpose the image because we want the time\n",
    "    # dimension to correspond to the width of the image.\n",
    "    img = tf.transpose(img, perm=[1, 0, 2])\n",
    "    # 6. Map the characters in label to numbers\n",
    "    label = char_to_num(tf.strings.unicode_split(label, input_encoding=\"UTF-8\"))\n",
    "    # 7. Return a dict as our model is expecting two inputs\n",
    "    return {\"image\": img, \"label\": label}"
   ]
  },
  {
   "cell_type": "code",
   "execution_count": 16,
   "id": "8d8f1654-a9dc-4740-9c1b-5f8e3748d348",
   "metadata": {},
   "outputs": [],
   "source": [
    "# Create a dataset objects\n",
    "train_dataset = tf.data.Dataset.from_tensor_slices((x_train, y_train))\n",
    "train_dataset = (\n",
    "    train_dataset.map(\n",
    "        encode_single_sample, num_parallel_calls=tf.data.AUTOTUNE\n",
    "    )\n",
    "    .batch(batch_size)\n",
    "    .prefetch(buffer_size=tf.data.AUTOTUNE)\n",
    ")\n",
    "\n",
    "validation_dataset = tf.data.Dataset.from_tensor_slices((x_valid, y_valid))\n",
    "validation_dataset = (\n",
    "    validation_dataset.map(\n",
    "        encode_single_sample, num_parallel_calls=tf.data.AUTOTUNE\n",
    "    )\n",
    "    .batch(batch_size)\n",
    "    .prefetch(buffer_size=tf.data.AUTOTUNE)\n",
    ")\n"
   ]
  },
  {
   "cell_type": "code",
   "execution_count": 17,
   "id": "885961e0-115b-4886-9154-ff97b679acd9",
   "metadata": {},
   "outputs": [
    {
     "data": {
      "image/png": "[encoded data removed]",
      "text/plain": [
       "<Figure size 720x360 with 10 Axes>"
      ]
     },
     "metadata": {
      "needs_background": "light"
     },
     "output_type": "display_data"
    }
   ],
   "source": [
    "_, ax = plt.subplots(2, 5, figsize=(10, 5))\n",
    "for batch in train_dataset.take(-1):\n",
    "    images = batch[\"image\"]\n",
    "    labels = batch[\"label\"]\n",
    "    for i in range(10):\n",
    "        img = (images[i] * 255).numpy().astype(\"uint8\")\n",
    "        label = tf.strings.reduce_join(num_to_char(labels[i])).numpy().decode(\"utf-8\")\n",
    "        ax[i // 5, i % 5].imshow(img[:, :, 0].T, cmap=\"gray\")\n",
    "        ax[i // 5, i % 5].set_title(label)\n",
    "        ax[i // 5, i % 5].axis(\"off\")\n",
    "plt.show()"
   ]
  },
  {
   "cell_type": "code",
   "execution_count": 18,
   "id": "d0eeb5ab-a748-4b61-a721-560d73ea66fc",
   "metadata": {},
   "outputs": [],
   "source": [
    "# Definimos el modelo.\n",
    "class CTCLayer(layers.Layer):\n",
    "    def __init__(self, name=None):\n",
    "        super().__init__(name=name)\n",
    "        self.loss_fn = keras.backend.ctc_batch_cost\n",
    "\n",
    "    def call(self, y_true, y_pred):\n",
    "        # Compute the training-time loss value and add it\n",
    "        # to the layer using `self.add_loss()`.\n",
    "        batch_len = tf.cast(tf.shape(y_true)[0], dtype=\"int64\")\n",
    "        input_length = tf.cast(tf.shape(y_pred)[1], dtype=\"int64\")\n",
    "        label_length = tf.cast(tf.shape(y_true)[1], dtype=\"int64\")\n",
    "\n",
    "        input_length = input_length * tf.ones(shape=(batch_len, 1), dtype=\"int64\")\n",
    "        label_length = label_length * tf.ones(shape=(batch_len, 1), dtype=\"int64\")\n",
    "\n",
    "        loss = self.loss_fn(y_true, y_pred, input_length, label_length)\n",
    "        self.add_loss(loss)\n",
    "\n",
    "        # At test time, just return the computed predictions\n",
    "        return y_pred"
   ]
  },
  {
   "cell_type": "code",
   "execution_count": 24,
   "id": "efc43695-9b3d-4f58-911b-2f17c26ddc22",
   "metadata": {},
   "outputs": [],
   "source": [
    "def build_model():\n",
    "    # Inputs to the model\n",
    "    input_img = layers.Input(\n",
    "        shape=(img_width, img_height, 1), name=\"image\", dtype=\"float32\"\n",
    "    )\n",
    "    labels = layers.Input(name=\"label\", shape=(None,), dtype=\"float32\")\n",
    "\n",
    "    # First conv block\n",
    "    x = layers.Conv2D(\n",
    "        64,\n",
    "        (3, 3),\n",
    "        activation=\"relu\",\n",
    "        kernel_initializer=\"he_normal\",\n",
    "        padding=\"same\",\n",
    "        name=\"Conv1\",\n",
    "    )(input_img)\n",
    "    x = layers.MaxPooling2D((2, 2), name=\"pool1\")(x)\n",
    "\n",
    "    # Second conv block\n",
    "    x = layers.Conv2D(\n",
    "        64,\n",
    "        (3, 3),\n",
    "        activation=\"relu\",\n",
    "        kernel_initializer=\"he_normal\",\n",
    "        padding=\"same\",\n",
    "        name=\"Conv2\",\n",
    "    )(x)\n",
    "    x = layers.MaxPooling2D((2, 2), name=\"pool2\")(x)\n",
    "\n",
    "    # We have used two max pool with pool size and strides 2.\n",
    "    # Hence, downsampled feature maps are 4x smaller. The number of\n",
    "    # filters in the last layer is 64. Reshape accordingly before\n",
    "    # passing the output to the RNN part of the model\n",
    "    new_shape = ((img_width // 4), (img_height // 4) * 64)\n",
    "    x = layers.Reshape(target_shape=new_shape, name=\"reshape\")(x)\n",
    "    x = layers.Dense(128, activation=\"relu\", name=\"dense1\")(x)\n",
    "    x = layers.Dropout(0.2)(x)\n",
    "\n",
    "    # RNNs\n",
    "    x = layers.Bidirectional(layers.LSTM(128, return_sequences=True, dropout=0.25))(x)\n",
    "    x = layers.Bidirectional(layers.LSTM(64, return_sequences=True, dropout=0.25))(x)\n",
    "\n",
    "    # Output layer\n",
    "    x = layers.Dense(\n",
    "        len(char_to_num.get_vocabulary()) + 1, activation=\"softmax\", name=\"dense2\"\n",
    "    )(x)\n",
    "\n",
    "    # Add CTC layer for calculating CTC loss at each step\n",
    "    output = CTCLayer(name=\"ctc_loss\")(labels, x)\n",
    "\n",
    "    # Define the model\n",
    "    model = keras.models.Model(\n",
    "        inputs=[input_img, labels], outputs=output, name=\"ocr_model_v1\"\n",
    "    )\n",
    "    # Optimizer\n",
    "    opt = keras.optimizers.Adam()\n",
    "    # Compile the model and return\n",
    "    model.compile(optimizer=opt)#, metrics=['accuracy'])\n",
    "    return model"
   ]
  },
  {
   "cell_type": "code",
   "execution_count": 25,
   "id": "a4fe6d61-fbe0-4076-b82f-eeb7ff99bad0",
   "metadata": {},
   "outputs": [
    {
     "name": "stdout",
     "output_type": "stream",
     "text": [
      "Model: \"ocr_model_v1\"\n",
      "__________________________________________________________________________________________________\n",
      " Layer (type)                   Output Shape         Param #     Connected to                     \n",
      "==================================================================================================\n",
      " image (InputLayer)             [(None, 200, 100, 1  0           []                               \n",
      "                                )]                                                                \n",
      "                                                                                                  \n",
      " Conv1 (Conv2D)                 (None, 200, 100, 64  640         ['image[0][0]']                  \n",
      "                                )                                                                 \n",
      "                                                                                                  \n",
      " pool1 (MaxPooling2D)           (None, 100, 50, 64)  0           ['Conv1[0][0]']                  \n",
      "                                                                                                  \n",
      " Conv2 (Conv2D)                 (None, 100, 50, 64)  36928       ['pool1[0][0]']                  \n",
      "                                                                                                  \n",
      " pool2 (MaxPooling2D)           (None, 50, 25, 64)   0           ['Conv2[0][0]']                  \n",
      "                                                                                                  \n",
      " reshape (Reshape)              (None, 50, 1600)     0           ['pool2[0][0]']                  \n",
      "                                                                                                  \n",
      " dense1 (Dense)                 (None, 50, 128)      204928      ['reshape[0][0]']                \n",
      "                                                                                                  \n",
      " dropout_1 (Dropout)            (None, 50, 128)      0           ['dense1[0][0]']                 \n",
      "                                                                                                  \n",
      " bidirectional_2 (Bidirectional  (None, 50, 256)     263168      ['dropout_1[0][0]']              \n",
      " )                                                                                                \n",
      "                                                                                                  \n",
      " bidirectional_3 (Bidirectional  (None, 50, 128)     164352      ['bidirectional_2[0][0]']        \n",
      " )                                                                                                \n",
      "                                                                                                  \n",
      " label (InputLayer)             [(None, None)]       0           []                               \n",
      "                                                                                                  \n",
      " dense2 (Dense)                 (None, 50, 10)       1290        ['bidirectional_3[0][0]']        \n",
      "                                                                                                  \n",
      " ctc_loss (CTCLayer)            (None, 50, 10)       0           ['label[0][0]',                  \n",
      "                                                                  'dense2[0][0]']                 \n",
      "                                                                                                  \n",
      "==================================================================================================\n",
      "Total params: 671,306\n",
      "Trainable params: 671,306\n",
      "Non-trainable params: 0\n",
      "__________________________________________________________________________________________________\n"
     ]
    }
   ],
   "source": [
    "# Get the model\n",
    "model = build_model()\n",
    "model.summary()"
   ]
  },
  {
   "cell_type": "code",
   "execution_count": 26,
   "id": "79326eae-4aad-4421-9332-04f428e0e091",
   "metadata": {},
   "outputs": [
    {
     "name": "stdout",
     "output_type": "stream",
     "text": [
      "Epoch 1/1000\n",
      "90/90 [==============================] - 34s 316ms/step - loss: 9.9105 - val_loss: 7.7234\n",
      "Epoch 2/1000\n",
      "90/90 [==============================] - 28s 316ms/step - loss: 7.7107 - val_loss: 7.7133\n",
      "Epoch 3/1000\n",
      "90/90 [==============================] - 35s 393ms/step - loss: 7.7000 - val_loss: 7.7125\n",
      "Epoch 4/1000\n",
      "90/90 [==============================] - 40s 442ms/step - loss: 7.6849 - val_loss: 7.6707\n",
      "Epoch 5/1000\n",
      "90/90 [==============================] - 38s 427ms/step - loss: 7.5804 - val_loss: 7.2142\n",
      "Epoch 6/1000\n",
      "90/90 [==============================] - 38s 421ms/step - loss: 6.8424 - val_loss: 6.4629\n",
      "Epoch 7/1000\n",
      "90/90 [==============================] - 39s 438ms/step - loss: 6.4120 - val_loss: 6.3322\n",
      "Epoch 8/1000\n",
      "90/90 [==============================] - 39s 439ms/step - loss: 6.3266 - val_loss: 6.3041\n",
      "Epoch 9/1000\n",
      "90/90 [==============================] - 40s 443ms/step - loss: 6.2983 - val_loss: 6.2877\n",
      "Epoch 10/1000\n",
      "90/90 [==============================] - 38s 416ms/step - loss: 6.2801 - val_loss: 6.2754\n",
      "Epoch 11/1000\n",
      "90/90 [==============================] - 41s 456ms/step - loss: 6.2746 - val_loss: 6.2724\n",
      "Epoch 12/1000\n",
      "90/90 [==============================] - 39s 437ms/step - loss: 6.2736 - val_loss: 6.2687\n",
      "Epoch 13/1000\n",
      "90/90 [==============================] - 34s 374ms/step - loss: 6.2639 - val_loss: 6.2637\n",
      "Epoch 14/1000\n",
      "90/90 [==============================] - 34s 373ms/step - loss: 6.2622 - val_loss: 6.2692\n",
      "Epoch 15/1000\n",
      "90/90 [==============================] - 36s 395ms/step - loss: 6.2570 - val_loss: 6.2599\n",
      "Epoch 16/1000\n",
      "90/90 [==============================] - 35s 384ms/step - loss: 6.2537 - val_loss: 6.2550\n",
      "Epoch 17/1000\n",
      "90/90 [==============================] - 33s 365ms/step - loss: 6.2482 - val_loss: 6.2271\n",
      "Epoch 18/1000\n",
      "90/90 [==============================] - 33s 363ms/step - loss: 6.2112 - val_loss: 6.1863\n",
      "Epoch 19/1000\n",
      "90/90 [==============================] - 33s 365ms/step - loss: 6.0892 - val_loss: 5.9992\n",
      "Epoch 20/1000\n",
      "90/90 [==============================] - 32s 356ms/step - loss: 5.9963 - val_loss: 5.9495\n",
      "Epoch 21/1000\n",
      "90/90 [==============================] - 31s 345ms/step - loss: 5.8877 - val_loss: 5.8295\n",
      "Epoch 22/1000\n",
      "90/90 [==============================] - 31s 344ms/step - loss: 5.7163 - val_loss: 5.5782\n",
      "Epoch 23/1000\n",
      "90/90 [==============================] - 31s 343ms/step - loss: 5.4953 - val_loss: 5.3602\n",
      "Epoch 24/1000\n",
      "90/90 [==============================] - 31s 345ms/step - loss: 5.2177 - val_loss: 5.0709\n",
      "Epoch 25/1000\n",
      "90/90 [==============================] - 31s 346ms/step - loss: 4.9702 - val_loss: 4.6415\n",
      "Epoch 26/1000\n",
      "90/90 [==============================] - 31s 343ms/step - loss: 4.3211 - val_loss: 4.0516\n",
      "Epoch 27/1000\n",
      "90/90 [==============================] - 32s 351ms/step - loss: 4.0237 - val_loss: 3.6040\n",
      "Epoch 28/1000\n",
      "90/90 [==============================] - 31s 349ms/step - loss: 3.7262 - val_loss: 3.6429\n",
      "Epoch 29/1000\n",
      "90/90 [==============================] - 31s 349ms/step - loss: 3.5802 - val_loss: 3.3795\n",
      "Epoch 30/1000\n",
      "90/90 [==============================] - 31s 348ms/step - loss: 3.3113 - val_loss: 3.3350\n",
      "Epoch 31/1000\n",
      "90/90 [==============================] - 31s 345ms/step - loss: 3.1273 - val_loss: 3.0814\n",
      "Epoch 32/1000\n",
      "90/90 [==============================] - 31s 345ms/step - loss: 3.0358 - val_loss: 3.2835\n",
      "Epoch 33/1000\n",
      "90/90 [==============================] - 32s 359ms/step - loss: 3.4683 - val_loss: 3.1657\n",
      "Epoch 34/1000\n",
      "90/90 [==============================] - 31s 344ms/step - loss: 3.0218 - val_loss: 3.1179\n",
      "Epoch 35/1000\n",
      "90/90 [==============================] - 31s 346ms/step - loss: 2.9183 - val_loss: 2.8865\n",
      "Epoch 36/1000\n",
      "90/90 [==============================] - 31s 345ms/step - loss: 2.7765 - val_loss: 2.8338\n",
      "Epoch 37/1000\n",
      "90/90 [==============================] - 31s 345ms/step - loss: 2.6405 - val_loss: 2.7294\n",
      "Epoch 38/1000\n",
      "90/90 [==============================] - 32s 351ms/step - loss: 2.6279 - val_loss: 2.6105\n",
      "Epoch 39/1000\n",
      "90/90 [==============================] - 30s 328ms/step - loss: 2.4555 - val_loss: 2.3808\n",
      "Epoch 40/1000\n",
      "90/90 [==============================] - 29s 318ms/step - loss: 2.2671 - val_loss: 2.2366\n",
      "Epoch 41/1000\n",
      "90/90 [==============================] - 29s 318ms/step - loss: 2.1491 - val_loss: 2.1544\n",
      "Epoch 42/1000\n",
      "90/90 [==============================] - 28s 315ms/step - loss: 2.0473 - val_loss: 2.0137\n",
      "Epoch 43/1000\n",
      "90/90 [==============================] - 28s 312ms/step - loss: 1.9986 - val_loss: 1.9054\n",
      "Epoch 44/1000\n",
      "90/90 [==============================] - 32s 357ms/step - loss: 1.8781 - val_loss: 1.7660\n",
      "Epoch 45/1000\n",
      "90/90 [==============================] - 36s 403ms/step - loss: 1.7759 - val_loss: 1.6996\n",
      "Epoch 46/1000\n",
      "90/90 [==============================] - 37s 413ms/step - loss: 1.6964 - val_loss: 1.7357\n",
      "Epoch 47/1000\n",
      "90/90 [==============================] - 36s 403ms/step - loss: 1.6057 - val_loss: 1.5505\n",
      "Epoch 48/1000\n",
      "90/90 [==============================] - 42s 465ms/step - loss: 1.4434 - val_loss: 1.4172\n",
      "Epoch 49/1000\n",
      "90/90 [==============================] - 37s 408ms/step - loss: 1.3272 - val_loss: 1.2596\n",
      "Epoch 50/1000\n",
      "90/90 [==============================] - 30s 331ms/step - loss: 1.3743 - val_loss: 1.1166\n",
      "Epoch 51/1000\n",
      "90/90 [==============================] - 27s 298ms/step - loss: 1.0140 - val_loss: 1.0158\n",
      "Epoch 52/1000\n",
      "90/90 [==============================] - 26s 294ms/step - loss: 0.8651 - val_loss: 0.8834\n",
      "Epoch 53/1000\n",
      "90/90 [==============================] - 26s 285ms/step - loss: 0.7522 - val_loss: 0.7971\n",
      "Epoch 54/1000\n",
      "90/90 [==============================] - 26s 289ms/step - loss: 0.6683 - val_loss: 0.8246\n",
      "Epoch 55/1000\n",
      "90/90 [==============================] - 26s 287ms/step - loss: 0.5736 - val_loss: 0.7326\n",
      "Epoch 56/1000\n",
      "90/90 [==============================] - 26s 287ms/step - loss: 0.4693 - val_loss: 0.3814\n",
      "Epoch 57/1000\n",
      "90/90 [==============================] - 27s 298ms/step - loss: 0.3665 - val_loss: 0.3141\n",
      "Epoch 58/1000\n",
      "90/90 [==============================] - 26s 290ms/step - loss: 0.4009 - val_loss: 0.2907\n",
      "Epoch 59/1000\n",
      "90/90 [==============================] - 26s 290ms/step - loss: 0.2807 - val_loss: 0.2374\n",
      "Epoch 60/1000\n",
      "90/90 [==============================] - 26s 291ms/step - loss: 0.2309 - val_loss: 0.1674\n",
      "Epoch 61/1000\n",
      "90/90 [==============================] - 26s 290ms/step - loss: 0.2224 - val_loss: 0.2056\n",
      "Epoch 62/1000\n",
      "90/90 [==============================] - 26s 289ms/step - loss: 0.2161 - val_loss: 0.1853\n",
      "Epoch 63/1000\n",
      "90/90 [==============================] - 26s 293ms/step - loss: 0.2507 - val_loss: 0.2119\n",
      "Epoch 64/1000\n",
      "90/90 [==============================] - 28s 316ms/step - loss: 0.1599 - val_loss: 0.1428\n",
      "Epoch 65/1000\n",
      "90/90 [==============================] - 29s 327ms/step - loss: 0.1296 - val_loss: 0.1187\n",
      "Epoch 66/1000\n",
      "90/90 [==============================] - 28s 310ms/step - loss: 0.1525 - val_loss: 0.1230\n",
      "Epoch 67/1000\n",
      "90/90 [==============================] - 31s 349ms/step - loss: 0.1221 - val_loss: 0.1469\n",
      "Epoch 68/1000\n",
      "90/90 [==============================] - 28s 309ms/step - loss: 0.1197 - val_loss: 0.1518\n",
      "Epoch 69/1000\n",
      "90/90 [==============================] - 28s 306ms/step - loss: 0.1753 - val_loss: 0.1251\n",
      "Epoch 70/1000\n",
      "90/90 [==============================] - 27s 304ms/step - loss: 0.1053 - val_loss: 0.0874\n",
      "Epoch 71/1000\n",
      "90/90 [==============================] - 30s 331ms/step - loss: 0.1144 - val_loss: 0.0616\n",
      "Epoch 72/1000\n",
      "90/90 [==============================] - 30s 333ms/step - loss: 0.0809 - val_loss: 0.0820\n",
      "Epoch 73/1000\n",
      "90/90 [==============================] - 27s 299ms/step - loss: 0.2080 - val_loss: 0.1720\n",
      "Epoch 74/1000\n",
      "90/90 [==============================] - 28s 310ms/step - loss: 0.1316 - val_loss: 0.0813\n",
      "Epoch 75/1000\n",
      "90/90 [==============================] - 27s 301ms/step - loss: 0.1375 - val_loss: 0.2203\n",
      "Epoch 76/1000\n",
      "90/90 [==============================] - 30s 330ms/step - loss: 0.1096 - val_loss: 0.1005\n",
      "Epoch 77/1000\n",
      "90/90 [==============================] - 32s 353ms/step - loss: 0.0800 - val_loss: 0.0440\n",
      "Epoch 78/1000\n",
      "90/90 [==============================] - 28s 306ms/step - loss: 0.0843 - val_loss: 0.0993\n",
      "Epoch 79/1000\n",
      "90/90 [==============================] - 28s 311ms/step - loss: 0.0780 - val_loss: 0.0834\n",
      "Epoch 80/1000\n",
      "90/90 [==============================] - 30s 329ms/step - loss: 0.0628 - val_loss: 0.0451\n",
      "Epoch 81/1000\n",
      "90/90 [==============================] - 33s 362ms/step - loss: 0.0600 - val_loss: 0.0298\n",
      "Epoch 82/1000\n",
      "90/90 [==============================] - 29s 322ms/step - loss: 0.0518 - val_loss: 0.0247\n",
      "Epoch 83/1000\n",
      "90/90 [==============================] - 28s 310ms/step - loss: 0.0370 - val_loss: 0.0228\n",
      "Epoch 84/1000\n",
      "90/90 [==============================] - 33s 362ms/step - loss: 0.0254 - val_loss: 0.0255\n",
      "Epoch 85/1000\n",
      "90/90 [==============================] - 35s 389ms/step - loss: 0.0306 - val_loss: 0.0249\n",
      "Epoch 86/1000\n",
      "90/90 [==============================] - 35s 384ms/step - loss: 0.0289 - val_loss: 0.0198\n",
      "Epoch 87/1000\n",
      "90/90 [==============================] - 33s 367ms/step - loss: 0.0194 - val_loss: 0.0141\n",
      "Epoch 88/1000\n",
      "90/90 [==============================] - 33s 369ms/step - loss: 0.0244 - val_loss: 0.0162\n",
      "Epoch 89/1000\n",
      "90/90 [==============================] - 34s 379ms/step - loss: 0.0231 - val_loss: 0.0133\n",
      "Epoch 90/1000\n",
      "90/90 [==============================] - 33s 367ms/step - loss: 0.0156 - val_loss: 0.0140\n",
      "Epoch 91/1000\n",
      "90/90 [==============================] - 33s 369ms/step - loss: 0.0858 - val_loss: 0.0792\n",
      "Epoch 92/1000\n",
      "90/90 [==============================] - 35s 387ms/step - loss: 0.1073 - val_loss: 0.1054\n",
      "Epoch 93/1000\n",
      "90/90 [==============================] - 34s 378ms/step - loss: 0.0661 - val_loss: 0.0351\n",
      "Epoch 94/1000\n",
      "90/90 [==============================] - 34s 379ms/step - loss: 0.0989 - val_loss: 0.0685\n",
      "Epoch 95/1000\n",
      "90/90 [==============================] - 33s 367ms/step - loss: 0.0331 - val_loss: 0.0245\n",
      "Epoch 96/1000\n",
      "90/90 [==============================] - 33s 370ms/step - loss: 0.1060 - val_loss: 0.4107\n",
      "Epoch 97/1000\n",
      "90/90 [==============================] - 34s 381ms/step - loss: 0.1162 - val_loss: 0.0453\n",
      "Epoch 98/1000\n",
      "90/90 [==============================] - 33s 372ms/step - loss: 0.0863 - val_loss: 0.0517\n",
      "Epoch 99/1000\n",
      "90/90 [==============================] - 32s 360ms/step - loss: 0.0486 - val_loss: 0.0209\n",
      "Epoch 100/1000\n",
      "90/90 [==============================] - 32s 358ms/step - loss: 0.0445 - val_loss: 0.0215\n",
      "Epoch 101/1000\n",
      "90/90 [==============================] - 32s 353ms/step - loss: 0.0321 - val_loss: 0.0142\n",
      "Epoch 102/1000\n",
      "90/90 [==============================] - 31s 347ms/step - loss: 0.0320 - val_loss: 0.0125\n",
      "Epoch 103/1000\n",
      "90/90 [==============================] - 32s 354ms/step - loss: 0.0241 - val_loss: 0.0112\n",
      "Epoch 104/1000\n",
      "90/90 [==============================] - 33s 362ms/step - loss: 0.0571 - val_loss: 0.0184\n",
      "Epoch 105/1000\n",
      "90/90 [==============================] - 31s 346ms/step - loss: 0.0197 - val_loss: 0.0085\n",
      "Epoch 106/1000\n",
      "90/90 [==============================] - 31s 349ms/step - loss: 0.0158 - val_loss: 0.0071\n",
      "Epoch 107/1000\n",
      "90/90 [==============================] - 32s 353ms/step - loss: 0.0140 - val_loss: 0.0063\n",
      "Epoch 108/1000\n",
      "90/90 [==============================] - 29s 325ms/step - loss: 0.0120 - val_loss: 0.0048\n",
      "Epoch 109/1000\n",
      "90/90 [==============================] - 29s 318ms/step - loss: 0.0084 - val_loss: 0.0042\n",
      "Epoch 110/1000\n",
      "90/90 [==============================] - 29s 318ms/step - loss: 0.0104 - val_loss: 0.0040\n",
      "Epoch 111/1000\n",
      "90/90 [==============================] - 31s 349ms/step - loss: 0.0111 - val_loss: 0.0038\n",
      "Epoch 112/1000\n",
      "90/90 [==============================] - 29s 327ms/step - loss: 0.1362 - val_loss: 0.1675\n",
      "Epoch 113/1000\n",
      "90/90 [==============================] - 29s 326ms/step - loss: 0.1255 - val_loss: 0.0657\n",
      "Epoch 114/1000\n",
      "90/90 [==============================] - 29s 326ms/step - loss: 0.0699 - val_loss: 0.0300\n",
      "Epoch 115/1000\n",
      "90/90 [==============================] - 30s 329ms/step - loss: 0.0335 - val_loss: 0.0196\n",
      "Epoch 116/1000\n",
      "90/90 [==============================] - 29s 327ms/step - loss: 0.0221 - val_loss: 0.0085\n",
      "Epoch 117/1000\n",
      "90/90 [==============================] - 29s 323ms/step - loss: 0.0130 - val_loss: 0.0078\n",
      "Epoch 118/1000\n",
      "90/90 [==============================] - 31s 345ms/step - loss: 0.0214 - val_loss: 0.0152\n",
      "Epoch 119/1000\n",
      "90/90 [==============================] - 32s 361ms/step - loss: 0.0290 - val_loss: 0.0064\n",
      "Epoch 120/1000\n",
      "90/90 [==============================] - 34s 374ms/step - loss: 0.0104 - val_loss: 0.0062\n",
      "Epoch 121/1000\n",
      "90/90 [==============================] - 34s 375ms/step - loss: 0.0115 - val_loss: 0.0065\n",
      "Epoch 122/1000\n",
      "90/90 [==============================] - 33s 365ms/step - loss: 0.0420 - val_loss: 0.2673\n",
      "Epoch 123/1000\n",
      "90/90 [==============================] - 32s 361ms/step - loss: 0.0860 - val_loss: 0.0329\n",
      "Epoch 124/1000\n",
      "90/90 [==============================] - 32s 360ms/step - loss: 0.0210 - val_loss: 0.0088\n",
      "Epoch 125/1000\n",
      "90/90 [==============================] - 32s 359ms/step - loss: 0.0268 - val_loss: 0.0045\n",
      "Epoch 126/1000\n",
      "90/90 [==============================] - 32s 361ms/step - loss: 0.0132 - val_loss: 0.0043\n"
     ]
    }
   ],
   "source": [
    "epochs = 1000\n",
    "early_stopping_patience = 15\n",
    "# Add early stopping\n",
    "early_stopping = keras.callbacks.EarlyStopping(\n",
    "    monitor=\"val_loss\", patience=early_stopping_patience, restore_best_weights=True\n",
    ")\n",
    "\n",
    "# Train the model\n",
    "history = model.fit(\n",
    "    train_dataset,\n",
    "    validation_data=validation_dataset,\n",
    "    epochs=epochs,\n",
    "    callbacks=[early_stopping],\n",
    ")"
   ]
  },
  {
   "cell_type": "code",
   "execution_count": 27,
   "id": "2eb9b7fb-0aeb-4b0e-af1a-e596d4bc354f",
   "metadata": {},
   "outputs": [
    {
     "data": {
      "image/png": "[encoded data removed]",
      "text/plain": [
       "<Figure size 432x288 with 1 Axes>"
      ]
     },
     "metadata": {
      "needs_background": "light"
     },
     "output_type": "display_data"
    }
   ],
   "source": [
    "#acc = history.history['accuracy']\n",
    "#val_acc = history.history['val_accuracy']\n",
    "\n",
    "#plt.figure(figsize=(8, 8))\n",
    "#plt.subplot(2, 1, 1)\n",
    "#plt.plot(acc, label='Training Accuracy')\n",
    "#plt.plot(val_acc, label='Validation Accuracy')\n",
    "#plt.legend(loc='lower right')\n",
    "#plt.ylabel('Accuracy')\n",
    "#plt.ylim([min(plt.ylim()),1])\n",
    "#plt.title('Training and Validation Accuracy')\n",
    "\n",
    "\n",
    "loss = history.history['loss']\n",
    "val_loss = history.history['val_loss']\n",
    "\n",
    "plt.subplot(2, 1, 2)\n",
    "plt.plot(loss, label='Training Loss')\n",
    "plt.plot(val_loss, label='Validation Loss')\n",
    "plt.legend(loc='upper right')\n",
    "plt.ylabel('Cross Entropy')\n",
    "#plt.ylim([0,1.0])\n",
    "plt.title('Training and Validation Loss')\n",
    "plt.xlabel('epoch')\n",
    "plt.show()"
   ]
  },
  {
   "cell_type": "code",
   "execution_count": 28,
   "id": "1c6848a6-b766-475e-ae4a-305226ad3d02",
   "metadata": {},
   "outputs": [
    {
     "name": "stdout",
     "output_type": "stream",
     "text": [
      "Model: \"model\"\n",
      "_________________________________________________________________\n",
      " Layer (type)                Output Shape              Param #   \n",
      "=================================================================\n",
      " image (InputLayer)          [(None, 200, 100, 1)]     0         \n",
      "                                                                 \n",
      " Conv1 (Conv2D)              (None, 200, 100, 64)      640       \n",
      "                                                                 \n",
      " pool1 (MaxPooling2D)        (None, 100, 50, 64)       0         \n",
      "                                                                 \n",
      " Conv2 (Conv2D)              (None, 100, 50, 64)       36928     \n",
      "                                                                 \n",
      " pool2 (MaxPooling2D)        (None, 50, 25, 64)        0         \n",
      "                                                                 \n",
      " reshape (Reshape)           (None, 50, 1600)          0         \n",
      "                                                                 \n",
      " dense1 (Dense)              (None, 50, 128)           204928    \n",
      "                                                                 \n",
      " dropout_1 (Dropout)         (None, 50, 128)           0         \n",
      "                                                                 \n",
      " bidirectional_2 (Bidirectio  (None, 50, 256)          263168    \n",
      " nal)                                                            \n",
      "                                                                 \n",
      " bidirectional_3 (Bidirectio  (None, 50, 128)          164352    \n",
      " nal)                                                            \n",
      "                                                                 \n",
      " dense2 (Dense)              (None, 50, 10)            1290      \n",
      "                                                                 \n",
      "=================================================================\n",
      "Total params: 671,306\n",
      "Trainable params: 671,306\n",
      "Non-trainable params: 0\n",
      "_________________________________________________________________\n"
     ]
    }
   ],
   "source": [
    "# Get the prediction model by extracting layers till the output layer\n",
    "prediction_model = keras.models.Model(\n",
    "    model.get_layer(name=\"image\").input, model.get_layer(name=\"dense2\").output\n",
    ")\n",
    "prediction_model.summary()"
   ]
  },
  {
   "cell_type": "code",
   "execution_count": 34,
   "id": "cc1c8954-f976-4711-b73e-561940c8636e",
   "metadata": {},
   "outputs": [
    {
     "name": "stdout",
     "output_type": "stream",
     "text": [
      "1/1 [==============================] - 0s 74ms/step\n"
     ]
    },
    {
     "data": {
      "image/png": "[encoded data removed]",
      "text/plain": [
       "<Figure size 1080x360 with 10 Axes>"
      ]
     },
     "metadata": {
      "needs_background": "light"
     },
     "output_type": "display_data"
    }
   ],
   "source": [
    "# A utility function to decode the output of the network\n",
    "def decode_batch_predictions(pred):\n",
    "    input_len = np.ones(pred.shape[0]) * pred.shape[1]\n",
    "    # Use greedy search. For complex tasks, you can use beam search\n",
    "    results = keras.backend.ctc_decode(pred, input_length=input_len, greedy=True)[0][0][\n",
    "        :, :max_length\n",
    "    ]\n",
    "    # Iterate over the results and get back the text\n",
    "    output_text = []\n",
    "    for res in results:\n",
    "        res = tf.strings.reduce_join(num_to_char(res)).numpy().decode(\"utf-8\")\n",
    "        output_text.append(res)\n",
    "    return output_text\n",
    "\n",
    "\n",
    "#  Let's check results on some validation samples\n",
    "for batch in validation_dataset.take(1):\n",
    "    batch_images = batch[\"image\"]\n",
    "    batch_labels = batch[\"label\"]\n",
    "\n",
    "    preds = prediction_model.predict(batch_images)\n",
    "    pred_texts = decode_batch_predictions(preds)\n",
    "\n",
    "    orig_texts = []\n",
    "    for label in batch_labels:\n",
    "        label = tf.strings.reduce_join(num_to_char(label)).numpy().decode(\"utf-8\")\n",
    "        orig_texts.append(label)\n",
    "\n",
    "    _, ax = plt.subplots(2, 5, figsize=(15, 5))\n",
    "    for i in range(len(pred_texts)):\n",
    "        img = (batch_images[i, :, :, 0] * 255).numpy().astype(np.uint8)\n",
    "        img = img.T\n",
    "        title = f\"Prediction: {pred_texts[i]}\"\n",
    "        ax[i // 5, i % 5].imshow(img, cmap=\"gray\")\n",
    "        ax[i // 5, i % 5].set_title(title)\n",
    "        ax[i // 5, i % 5].axis(\"off\")\n",
    "plt.show()"
   ]
  },
  {
   "cell_type": "markdown",
   "id": "2cd0602b-7bfe-4c87-9668-43e7563ed99e",
   "metadata": {},
   "source": [
    "--------------------\n",
    "# Predecir para una imagen"
   ]
  },
  {
   "cell_type": "code",
   "execution_count": 129,
   "id": "7e3fecc3-cda9-4627-93a4-ca1ebc0e6fcc",
   "metadata": {},
   "outputs": [],
   "source": [
    "# Leer la imagen 1049 de imagenes 2"
   ]
  },
  {
   "cell_type": "code",
   "execution_count": 130,
   "id": "653a670b-134b-409f-b432-3ff4fd372dc9",
   "metadata": {},
   "outputs": [],
   "source": [
    "# Función modificada solamente para leer la imagen\n",
    "def encode_single_sample_(img_path):\n",
    "    # 1. Read image\n",
    "    img = tf.io.read_file(img_path)\n",
    "    # 2. Decode and convert to grayscale\n",
    "    img = tf.io.decode_png(img, channels=1)\n",
    "    # 3. Convert to float32 in [0, 1] range\n",
    "    img = tf.image.convert_image_dtype(img, tf.float32)\n",
    "    # 4. Resize to the desired size\n",
    "    img = tf.image.resize(img, [img_height, img_width])\n",
    "    # 5. Transpose the image because we want the time\n",
    "    # dimension to correspond to the width of the image.\n",
    "    img = tf.transpose(img, perm=[1, 0, 2])\n",
    "    # 6. Map the characters in label to numbers\n",
    "    #label = char_to_num(tf.strings.unicode_split(label, input_encoding=\"UTF-8\"))\n",
    "    # 7. Return a dict as our model is expecting two inputs\n",
    "    return {\"image\": img}#, \"label\":label}\n"
   ]
  },
  {
   "cell_type": "code",
   "execution_count": 131,
   "id": "463734ed-d5b9-41a5-bf87-5e96c618e673",
   "metadata": {},
   "outputs": [],
   "source": [
    "# Ruta de la imagen a cargar para scorear\n",
    "x_predict = 'images2/image_1049.png'"
   ]
  },
  {
   "cell_type": "code",
   "execution_count": 132,
   "id": "a1645c18-7b74-4085-b892-9906fd2c6ed2",
   "metadata": {
    "tags": []
   },
   "outputs": [],
   "source": [
    "# Armamos dataset com imagen leída\n",
    "predict_dataset = tf.data.Dataset.from_tensors((x_predict))\n",
    "predict_dataset = (\n",
    "    predict_dataset.map(\n",
    "        encode_single_sample_, num_parallel_calls=tf.data.AUTOTUNE\n",
    "    )\n",
    "    .batch(1)\n",
    "    .prefetch(buffer_size=tf.data.AUTOTUNE)\n",
    ")"
   ]
  },
  {
   "cell_type": "code",
   "execution_count": 185,
   "id": "e03701fa-f25b-418f-9449-29c9a8e4fda6",
   "metadata": {},
   "outputs": [
    {
     "name": "stdout",
     "output_type": "stream",
     "text": [
      "1/1 [==============================] - 0s 35ms/step\n",
      "465\n"
     ]
    }
   ],
   "source": [
    "preds = prediction_model.predict(predict_dataset)\n",
    "pred_texts = decode_batch_predictions(preds)[0]\n",
    "print(pred_texts)"
   ]
  },
  {
   "cell_type": "code",
   "execution_count": 188,
   "id": "1de54ce6-ca85-405a-9133-b04c724f570f",
   "metadata": {},
   "outputs": [
    {
     "data": {
      "image/png": "[encoded data removed]",
      "text/plain": [
       "<Figure size 432x288 with 1 Axes>"
      ]
     },
     "metadata": {
      "needs_background": "light"
     },
     "output_type": "display_data"
    }
   ],
   "source": [
    "plt.title(f\"Prediction:{pred_texts}\")\n",
    "img = encode_single_sample_(x_predict)\n",
    "img = (img[\"image\"][:, :, 0] * 255).numpy().astype(np.uint8)\n",
    "img = img.T\n",
    "plt.imshow(img, cmap=\"gray\")\n",
    "plt.show()"
   ]
  },
  {
   "cell_type": "markdown",
   "id": "7fd4a8e7-37d9-42f3-93d0-dcef2c4bbe05",
   "metadata": {},
   "source": [
    "# Guardar modelo entrenado"
   ]
  },
  {
   "cell_type": "code",
   "execution_count": 192,
   "id": "9a6524e0-96b0-4843-a5ce-82d64e4062a2",
   "metadata": {},
   "outputs": [
    {
     "name": "stdout",
     "output_type": "stream",
     "text": [
      "WARNING:tensorflow:Compiled the loaded model, but the compiled metrics have yet to be built. `model.compile_metrics` will be empty until you train or evaluate the model.\n"
     ]
    }
   ],
   "source": [
    "# Guardar el Modelo\n",
    "prediction_model.save('alg_custom_ocr_model_captchas.h5')\n",
    "\n"
   ]
  },
  {
   "cell_type": "code",
   "execution_count": 193,
   "id": "193f2a1f-5900-4ff7-8597-3e4e88944548",
   "metadata": {},
   "outputs": [
    {
     "name": "stdout",
     "output_type": "stream",
     "text": [
      "WARNING:tensorflow:No training configuration found in the save file, so the model was *not* compiled. Compile it manually.\n"
     ]
    }
   ],
   "source": [
    "# Recrea exactamente el mismo modelo solo desde el archivo\n",
    "new_model = keras.models.load_model('alg_custom_ocr_model_captchas.h5')"
   ]
  },
  {
   "cell_type": "markdown",
   "id": "e13be6d7-837e-4845-955b-fa526ae36374",
   "metadata": {},
   "source": [
    "---------------"
   ]
  },
  {
   "cell_type": "code",
   "execution_count": 195,
   "id": "67032b44-16c8-4cfb-9af2-1909a958fa25",
   "metadata": {},
   "outputs": [
    {
     "name": "stdout",
     "output_type": "stream",
     "text": [
      "1/1 [==============================] - 0s 41ms/step\n",
      "827\n"
     ]
    },
    {
     "data": {
      "image/png": "[encoded data removed]",
      "text/plain": [
       "<Figure size 432x288 with 1 Axes>"
      ]
     },
     "metadata": {
      "needs_background": "light"
     },
     "output_type": "display_data"
    }
   ],
   "source": [
    "# Ruta de la imagen a cargar para scorear\n",
    "x_predict = 'images2/image_1272.png'\n",
    "\n",
    "# Armamos dataset com imagen leída\n",
    "predict_dataset = tf.data.Dataset.from_tensors((x_predict))\n",
    "predict_dataset = (\n",
    "    predict_dataset.map(\n",
    "        encode_single_sample_, num_parallel_calls=tf.data.AUTOTUNE\n",
    "    )\n",
    "    .batch(1)\n",
    "    .prefetch(buffer_size=tf.data.AUTOTUNE)\n",
    ")\n",
    "\n",
    "\n",
    "preds = prediction_model.predict(predict_dataset)\n",
    "pred_texts = decode_batch_predictions(preds)[0]\n",
    "print(pred_texts)\n",
    "\n",
    "plt.title(f\"Prediction:{pred_texts}\")\n",
    "img = encode_single_sample_(x_predict)\n",
    "img = (img[\"image\"][:, :, 0] * 255).numpy().astype(np.uint8)\n",
    "img = img.T\n",
    "plt.imshow(img, cmap=\"gray\")\n",
    "plt.show()"
   ]
  },
  {
   "cell_type": "code",
   "execution_count": 203,
   "id": "f96f5be9-8630-4509-b1e9-8f304fb97bb8",
   "metadata": {},
   "outputs": [],
   "source": [
    "def get_captcha(image_path, prediction_model):\n",
    "    import tensorflow as tf\n",
    "    from tensorflow import keras\n",
    "    from tensorflow.keras import layers\n",
    "    import os\n",
    "    import numpy as np\n",
    "    import matplotlib.pyplot as plt\n",
    "\n",
    "    from pathlib import Path\n",
    "    from collections import Counter\n",
    "    # Ruta de la imagen a cargar para scorear\n",
    "    #x_predict = 'images2/image_1272.png'\n",
    "\n",
    "    # Armamos dataset com imagen leída\n",
    "    predict_dataset = tf.data.Dataset.from_tensors((image_path))\n",
    "    predict_dataset = (\n",
    "        predict_dataset.map(\n",
    "            encode_single_sample_, num_parallel_calls=tf.data.AUTOTUNE\n",
    "        )\n",
    "        .batch(1)\n",
    "        .prefetch(buffer_size=tf.data.AUTOTUNE)\n",
    "    )\n",
    "\n",
    "\n",
    "    preds = prediction_model.predict(predict_dataset)\n",
    "    pred_texts = decode_batch_predictions(preds)[0]\n",
    "    print(pred_texts)\n",
    "    return pred_texts"
   ]
  },
  {
   "cell_type": "code",
   "execution_count": 207,
   "id": "96b3a8a4-86ac-4ed8-8990-8e90d615f2d4",
   "metadata": {},
   "outputs": [
    {
     "name": "stdout",
     "output_type": "stream",
     "text": [
      "1/1 [==============================] - 0s 39ms/step\n",
      "154\n"
     ]
    }
   ],
   "source": [
    "image_path = 'images2/image_1501.png'\n",
    "pred_texts = get_captcha(image_path)"
   ]
  },
  {
   "cell_type": "code",
   "execution_count": 208,
   "id": "b9133c28-5272-4ca6-b7f5-adb8468eb9b7",
   "metadata": {},
   "outputs": [
    {
     "data": {
      "image/png": "[encoded data removed]",
      "text/plain": [
       "<Figure size 432x288 with 1 Axes>"
      ]
     },
     "metadata": {
      "needs_background": "light"
     },
     "output_type": "display_data"
    }
   ],
   "source": [
    "plt.title(f\"Prediction:{pred_texts}\")\n",
    "img = encode_single_sample_(image_path)\n",
    "img = (img[\"image\"][:, :, 0] * 255).numpy().astype(np.uint8)\n",
    "img = img.T\n",
    "plt.imshow(img, cmap=\"gray\")\n",
    "plt.show()"
   ]
  },
  {
   "cell_type": "code",
   "execution_count": null,
   "id": "87d016b8-6a7a-467e-b5fe-a77dcf405ba0",
   "metadata": {},
   "outputs": [],
   "source": []
  }
 ],
 "metadata": {
  "kernelspec": {
   "display_name": "Python 3 (ipykernel)",
   "language": "python",
   "name": "python3"
  },
  "language_info": {
   "codemirror_mode": {
    "name": "ipython",
    "version": 3
   },
   "file_extension": ".py",
   "mimetype": "text/x-python",
   "name": "python",
   "nbconvert_exporter": "python",
   "pygments_lexer": "ipython3",
   "version": "3.9.7"
  }
 },
 "nbformat": 4,
 "nbformat_minor": 5
}
